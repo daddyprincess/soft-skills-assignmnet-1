{
 "cells": [
  {
   "cell_type": "markdown",
   "id": "b6751c27-9bda-4f5b-907d-c19160cfab38",
   "metadata": {},
   "source": [
    "## 1. Can you tell me about yourself?"
   ]
  },
  {
   "cell_type": "code",
   "execution_count": null,
   "id": "e45cd9ee-c173-4171-83b5-dd6e226d87d2",
   "metadata": {},
   "outputs": [],
   "source": [
    "Good morning, first of all, thanks for giving me an opportunity to introduce myself in front of you.\n",
    "\n",
    "My name is Supriya . I am 21 years old. I basically belong to goothy andhra pradesh.\n",
    "\n",
    "Coming to my education, I 3rd year student  in bachelor of technology (B. TECH) in Information Technology\n",
    "from Chiranjeevi reddy institute of technology, JNTUA university, ananthapur.\n",
    "\n",
    "Coming to my skill, I have knowledge of programming languages like SQL, python.\n",
    "\n",
    "My short-term goal is to get a job in a reputed company like yours.\n",
    "While my long-term goal is to achieve a good position or higher position in the same company.\n",
    "\n",
    "Coming to my hobbies, my hobbies are listening to music, planting trees and spending time with my family in\n",
    "my free time.\n",
    "\n",
    "Coming to my family, we are six members in my family including me, we are 4 siblings, one brothers and two\n",
    "sisters, I am the youngest of my family members.\n",
    "\n",
    "That's all about me.\n",
    "\n",
    "Thank you once again.\n"
   ]
  },
  {
   "cell_type": "markdown",
   "id": "dce01a51-d90f-43b4-a1f5-cbba19854590",
   "metadata": {},
   "source": [
    "## 2. What are your greatest strengths?"
   ]
  },
  {
   "cell_type": "code",
   "execution_count": null,
   "id": "3f5067ff-8c67-4583-9868-643cc931149d",
   "metadata": {},
   "outputs": [],
   "source": [
    "-Humanuity\n",
    "-my family\n",
    "-creativity\n",
    "-Hope\n",
    "-Bravery\n",
    "-Team work etc"
   ]
  },
  {
   "cell_type": "markdown",
   "id": "988c57f9-1863-4e01-a791-d42f8a1601f2",
   "metadata": {},
   "source": [
    "## 3. What are your greatest weaknesses?"
   ]
  },
  {
   "cell_type": "code",
   "execution_count": null,
   "id": "8a7a313b-b6d4-4c84-afb4-b21816cecf12",
   "metadata": {},
   "outputs": [],
   "source": [
    "-Shyness\n",
    "-Fear\n",
    "-sensitivity\n",
    "-Taking on to so many projects once\n",
    "-Pressure etc"
   ]
  },
  {
   "cell_type": "markdown",
   "id": "1a1196d0-a5d7-4bf5-8277-b15f73810b58",
   "metadata": {},
   "source": [
    "## 4. Why should I hire you?"
   ]
  },
  {
   "cell_type": "code",
   "execution_count": null,
   "id": "6c16fbd3-863c-4f09-93f1-99395df15f20",
   "metadata": {},
   "outputs": [],
   "source": [
    " You should hire me because I am a dedicated, hardworking individual eager to learn and grow within your \n",
    "organization. Additionally, I have a proven track record of delivering results and working collaboratively \n",
    "with others. Based on my skills."
   ]
  },
  {
   "cell_type": "markdown",
   "id": "330541e3-bce2-4b57-841d-ce860d681f74",
   "metadata": {},
   "source": [
    "## 5. Where do you see yourself in five years?"
   ]
  },
  {
   "cell_type": "code",
   "execution_count": null,
   "id": "0c0bb55b-6357-425a-b71a-17966b431b39",
   "metadata": {},
   "outputs": [],
   "source": [
    " “In five years, I see myself as an integral part of the company who has helped contribute to the growth and \n",
    "success of the organization. I would like to continue developing my skills and knowledge in order to be able \n",
    "to take on more responsibility within the company."
   ]
  },
  {
   "cell_type": "markdown",
   "id": "fb0755c0-02f8-4313-a934-d82febcdfa91",
   "metadata": {},
   "source": [
    "## 6. Can you describe your ideal company, location and job?"
   ]
  },
  {
   "cell_type": "code",
   "execution_count": null,
   "id": "01711282-b90e-481f-a41c-51255a6b6be4",
   "metadata": {},
   "outputs": [],
   "source": [
    "My ideal company is like where I can get job satisfaction and use all of my potential. My ideal location is\n",
    "that where I have a chance to learn new things and people around me are honest to work and for whom work is\n",
    "the first priority."
   ]
  },
  {
   "cell_type": "markdown",
   "id": "a2de02d4-3cf8-4422-8dc0-a67689cfd4a1",
   "metadata": {},
   "source": [
    "## 7. Why do you want to work for our company?"
   ]
  },
  {
   "cell_type": "code",
   "execution_count": null,
   "id": "e842160b-f799-486c-bf5b-8684abfaa8c7",
   "metadata": {},
   "outputs": [],
   "source": [
    "“I see this opportunity as a way to contribute to an exciting/forward-thinking/fast-moving company/industry,\n",
    "and I feel I can do so by/with my …” “I feel my skills are particularly well-suited to this position because”\n",
    "“I believe I have the type of knowledge to succeed in this role and at the company because ."
   ]
  },
  {
   "cell_type": "markdown",
   "id": "abafbb8c-4e18-405c-8492-8da3532e5e27",
   "metadata": {},
   "source": [
    "## 8. What are your career options at the moment?"
   ]
  },
  {
   "cell_type": "code",
   "execution_count": null,
   "id": "0385ff81-be48-4364-9c5c-3946fa25583e",
   "metadata": {},
   "outputs": [],
   "source": [
    "My career options are improving my knowledge and skill to get a job in a reputed company. Without any\n",
    "experience, I cant think of Carrier options. As of now, I am looking for an opportunity to gain skills,\n",
    "knowledge, and experience and then I can easily achieve a higher position."
   ]
  },
  {
   "cell_type": "markdown",
   "id": "ecf5c954-d16b-4245-b45d-94e803ce4784",
   "metadata": {},
   "source": [
    "## 9. Are you able to work under pressure?"
   ]
  },
  {
   "cell_type": "code",
   "execution_count": null,
   "id": "c780ace6-2ef1-4ff6-9fc7-bf231f921f3a",
   "metadata": {},
   "outputs": [],
   "source": [
    "Without pressure, no one will be bothered to complete the work on time. Yes, I can work well under pressure\n",
    "because there is no job or task which has no pressure. This is required for the timely completion of the\n",
    "work. Without pressure, no one will be bothered to complete the work on time."
   ]
  },
  {
   "cell_type": "markdown",
   "id": "440b3507-08d8-432e-9e45-5bbdae325d6b",
   "metadata": {},
   "source": [
    "## 10.Are you willing to relocate or travel?"
   ]
  },
  {
   "cell_type": "code",
   "execution_count": null,
   "id": "87d0b12e-9428-40f2-9be6-5505d1255d9e",
   "metadata": {},
   "outputs": [],
   "source": [
    "Yes, I am willing to relocate. Because I am used to it. And its a great chance for me to explore new places \n",
    "and to meet new people. And working with new people will give more new ideas and experience also."
   ]
  },
  {
   "cell_type": "markdown",
   "id": "9d9b81bd-37b5-42e6-a69f-ed6bdeff8daa",
   "metadata": {},
   "source": [
    "## 11.Why have you had multiple jobs?"
   ]
  },
  {
   "cell_type": "code",
   "execution_count": null,
   "id": "02ee378b-0760-4c1c-ae25-f2a92003f727",
   "metadata": {},
   "outputs": [],
   "source": [
    "I was supporting myself while obtaining a quality education and each job provided me with skills that will\n",
    "assist me in my career."
   ]
  },
  {
   "cell_type": "markdown",
   "id": "61c3dc8f-3968-4e6b-9fee-32b8e96648f4",
   "metadata": {},
   "source": [
    "## 12.May I contact your current employer for a reference?"
   ]
  },
  {
   "cell_type": "code",
   "execution_count": null,
   "id": "ed42a8e9-2f57-493a-a031-3436ea94e856",
   "metadata": {},
   "outputs": [],
   "source": [
    "Sure you can contact. I’m sure you will know good words about me."
   ]
  },
  {
   "cell_type": "markdown",
   "id": "af6f42d7-b29d-4ce0-97d3-8188896ce937",
   "metadata": {},
   "source": [
    "## 13.How many hours do you normally work per week?"
   ]
  },
  {
   "cell_type": "code",
   "execution_count": null,
   "id": "4e58373c-9b3d-4d9c-91c5-78a34d62efbc",
   "metadata": {},
   "outputs": [],
   "source": [
    "I always try to complete tasks assigned to me within my working hours. However, sometimes due to a heavy\n",
    "volume of work and requirements, I can manage the time or I have stretched my working hours too. But time\n",
    "doesn't matter interest in work does matter a lot."
   ]
  },
  {
   "cell_type": "markdown",
   "id": "51986c16-d659-43b5-a337-061b8f9297bb",
   "metadata": {},
   "source": [
    "## 14.Have you considered starting your own business?"
   ]
  },
  {
   "cell_type": "code",
   "execution_count": null,
   "id": "23218f85-ac02-4e49-a1b8-13b381904258",
   "metadata": {},
   "outputs": [],
   "source": [
    "NO, I dont have plans to start my own business. I am more focus to build my career with your company which \n",
    "I believe this company could give me a stable job and have fun while I am working. Well, I have a disered\n",
    "wish of starting a business. But to start a business capital is needed, but now I dont have enough money."
   ]
  },
  {
   "cell_type": "markdown",
   "id": "62ca79a8-045c-4456-a07d-56df8e9c0446",
   "metadata": {},
   "source": [
    "## 15.What are your goals?"
   ]
  },
  {
   "cell_type": "code",
   "execution_count": null,
   "id": "6fb86334-0a28-4923-8810-9c61df33d812",
   "metadata": {},
   "outputs": [],
   "source": [
    "\"One of my life goals is to gain valuable industry knowledge and experience. As this is an entry-level\n",
    "position, I hope to work for the company to gain new skills and develop an idea of how I can contribute to\n",
    "the organization.\""
   ]
  },
  {
   "cell_type": "markdown",
   "id": "e5f1e434-ba7d-4d39-a861-5b0443eef042",
   "metadata": {},
   "source": [
    "## 16.Can you sell me this stapler/pen/pencil?"
   ]
  },
  {
   "cell_type": "code",
   "execution_count": null,
   "id": "bbfc0afd-b202-48a0-b670-e8865b0ebe04",
   "metadata": {},
   "outputs": [],
   "source": [
    "He likes pencils with a good grip and needs an eraser. You could talk about how your pencil responds to\n",
    "pressure, which is ideal for drawing. Moreover, you could highlight its perfect weight, smooth grip, and\n",
    "polymer eraser that doesn't damage paper."
   ]
  },
  {
   "cell_type": "markdown",
   "id": "421afc3d-c625-4e4d-9201-9fdbfd1fcff1",
   "metadata": {},
   "source": [
    "## 17.What salary are you expecting?"
   ]
  },
  {
   "cell_type": "code",
   "execution_count": null,
   "id": "7f4f32ab-4b05-4292-9ef0-7d0f1c39357f",
   "metadata": {},
   "outputs": [],
   "source": [
    "I know I am just starting off my professional career, however, my personal salary expectation is around\n",
    "25-30K in-hand.\""
   ]
  },
  {
   "cell_type": "markdown",
   "id": "0dd6caab-7e43-4153-986a-4449e558f788",
   "metadata": {},
   "source": [
    "## 18.How do you define success?"
   ]
  },
  {
   "cell_type": "code",
   "execution_count": null,
   "id": "06f96aaf-e54a-4eae-9464-716329dfeb06",
   "metadata": {},
   "outputs": [],
   "source": [
    "My definition of success is doing consistent work and striving for the best possible result."
   ]
  },
  {
   "cell_type": "markdown",
   "id": "86448d75-57fc-4491-824b-fc4bea3225f0",
   "metadata": {},
   "source": [
    "## 19.Do you consider yourself successful?"
   ]
  },
  {
   "cell_type": "code",
   "execution_count": null,
   "id": "9ec26b10-5676-4caf-a860-dc4b175414c6",
   "metadata": {},
   "outputs": [],
   "source": [
    "“I consider myself successful in the sense that I have worked hard to get to where I am today, and I am \n",
    "always striving to do better\"."
   ]
  },
  {
   "cell_type": "markdown",
   "id": "e5cfeb04-de6c-454a-83af-7d9ced819716",
   "metadata": {},
   "source": [
    "## 20.How do you handle criticisms and stress?"
   ]
  },
  {
   "cell_type": "code",
   "execution_count": null,
   "id": "02b755e1-fe19-4aad-bda4-7df293767175",
   "metadata": {},
   "outputs": [],
   "source": [
    "Clarify and acknowledge."
   ]
  },
  {
   "cell_type": "markdown",
   "id": "0b19af74-7f10-4f6b-b42b-5a207c523f31",
   "metadata": {},
   "source": [
    "## 21.Are you willing to relocate?"
   ]
  },
  {
   "cell_type": "code",
   "execution_count": null,
   "id": "80f10bca-e629-4009-a1d1-c1ce3c8e095a",
   "metadata": {},
   "outputs": [],
   "source": [
    "Yes, I am ready to move another places because we can learn many things and also get many experiences from\n",
    "different places and I really like that."
   ]
  },
  {
   "cell_type": "markdown",
   "id": "2860a671-5b63-415e-8a7e-bd9c27254f9c",
   "metadata": {},
   "source": [
    "## 22.What choices do you have at the moment?"
   ]
  },
  {
   "cell_type": "code",
   "execution_count": null,
   "id": "23c81623-79dd-402b-9dc2-3ee648a1514b",
   "metadata": {},
   "outputs": [],
   "source": [
    "Life is short. Youth is finite. You have every opportunity to make the most of the life you have right now."
   ]
  },
  {
   "cell_type": "markdown",
   "id": "02178806-92d1-4bc5-9e61-32247f32cd7f",
   "metadata": {},
   "source": [
    "## 23.BSc/BCA vs Engineering"
   ]
  },
  {
   "cell_type": "code",
   "execution_count": null,
   "id": "5dd22095-ec1e-4810-8dfa-29f5181ed0c4",
   "metadata": {},
   "outputs": [],
   "source": [
    "BCA Full Form is Bachelor of Computer Applications. BCA is a 3 year UG course that trains students in\n",
    "Operating Systems, Java Programming, Computer Networks, Database Management Systems, Programming Languages \n",
    "etc. Students get job opportunities in the IT sector after completing the BCA course.\n",
    "BTech CSE is a 4 year UG course that studies practical and theoretical knowledge of computer hardware and\n",
    "software. "
   ]
  },
  {
   "cell_type": "markdown",
   "id": "474d6a35-4330-46c5-8c3b-72dfc242d86f",
   "metadata": {},
   "source": [
    "## 24.Postgraduate studies vs Job"
   ]
  },
  {
   "cell_type": "code",
   "execution_count": null,
   "id": "117ea55c-ed77-4a50-9723-9644bb66a1f7",
   "metadata": {},
   "outputs": [],
   "source": [
    "A job could be the best choice for you if it's the need of the hour. On the other hand, if you are\n",
    "financially stable with an interest in further studies, pursuing higher studies is unmistakably the best \n",
    "option."
   ]
  },
  {
   "cell_type": "markdown",
   "id": "a6b87451-6950-481d-9237-dd1360d71bc7",
   "metadata": {},
   "source": [
    "## 25.Job vs Research"
   ]
  },
  {
   "cell_type": "code",
   "execution_count": null,
   "id": "68773d19-5f9a-45a0-a62e-9a261cc18d15",
   "metadata": {},
   "outputs": [],
   "source": [
    "It is completely subjective and you cannot arrive at a definitive conclusion. A job could be the best choice\n",
    "for you if it's the need of the hour. On the other hand, if you are financially stable with an interest in \n",
    "further studies, pursuing higher studies is unmistakably the best option."
   ]
  },
  {
   "cell_type": "markdown",
   "id": "10e05b69-0886-45df-903a-590610e08b7b",
   "metadata": {},
   "source": [
    "## 26.What motivates you? Personal or professional goals?"
   ]
  },
  {
   "cell_type": "code",
   "execution_count": null,
   "id": "9664b558-4d4a-4b50-8f53-6b7d2bd56a23",
   "metadata": {},
   "outputs": [],
   "source": [
    "-Stability or job security.\n",
    "-Working to deadlines.\n",
    "-Leadership.\n",
    "-A sense of achievement or accomplishment.\n",
    "-Helping others in my job.\n",
    "-Growing my professional network.\n",
    "-Learning and development.\n",
    "-A great work culture."
   ]
  },
  {
   "cell_type": "markdown",
   "id": "dc48a2a2-0fa2-4488-97c3-787617792f05",
   "metadata": {},
   "source": [
    "## 27.How do you validate yourself and your work?"
   ]
  },
  {
   "cell_type": "code",
   "execution_count": null,
   "id": "09d153c6-69c9-4803-be7f-ed495c6c90c2",
   "metadata": {},
   "outputs": [],
   "source": [
    "1.Encouraging yourself.\n",
    "2.Acknowledging your strengths, successes, progress, and effort.\n",
    "3.Noticing and accepting your feelings.\n",
    "4.Prioritizing your needs.\n",
    "5.Treating yourself with kindness.\n",
    "6.Saying nice things to yourself.\n",
    "7.Accepting your limitations, flaws, and mistakes."
   ]
  },
  {
   "cell_type": "markdown",
   "id": "0ad679f9-25bc-488c-8280-08b228739987",
   "metadata": {},
   "source": [
    "## 28.How do others perceive you compared to how you perceive yourself?"
   ]
  },
  {
   "cell_type": "code",
   "execution_count": null,
   "id": "0a7d3ff1-d26d-4041-bf5d-a4be6e6230b8",
   "metadata": {},
   "outputs": [],
   "source": [
    "Individuals might perceive themselves in one way but others might perceive them in a totally different light. "
   ]
  },
  {
   "cell_type": "markdown",
   "id": "dcc34dd5-c9b4-42ee-94e4-69cf0db2758b",
   "metadata": {},
   "source": [
    "## 29.Who do you get along with and who don’t you get along with at work?"
   ]
  },
  {
   "cell_type": "code",
   "execution_count": null,
   "id": "cd951420-ce35-4f95-8b0b-3e1c7ce1285c",
   "metadata": {},
   "outputs": [],
   "source": [
    "1.Accept the situation.\n",
    "2.Document their behavior.\n",
    "3.Speak with human resources.\n",
    "4.Be mindful of yourself.\n",
    "5.Be the better person.\n",
    "6.Use your communication skills.\n",
    "7.Create healthy boundaries.\n",
    "8.Bond with your other coworkers."
   ]
  },
  {
   "cell_type": "markdown",
   "id": "4ea488f9-b569-45b8-91a5-ea58af8ab077",
   "metadata": {},
   "source": [
    "## 30.How do you handle setbacks, disappointments, failures and deadlines?"
   ]
  },
  {
   "cell_type": "code",
   "execution_count": null,
   "id": "c401d1ae-e485-4e60-8787-a82065fa21f5",
   "metadata": {},
   "outputs": [],
   "source": [
    "-Accept and knowledge\n",
    "-Learn from the experience\n",
    "-Seek support\n",
    "-Maintain apositive main mindset\n",
    "-Adjust and set new goalsTake care of yourself"
   ]
  },
  {
   "cell_type": "markdown",
   "id": "85c78623-760d-4b7f-919a-fd0b781828c3",
   "metadata": {},
   "source": [
    "## 31.Do you prefer working independently or as part of a team?"
   ]
  },
  {
   "cell_type": "code",
   "execution_count": null,
   "id": "36bd78ef-b0e4-4223-8e75-8d965693abc4",
   "metadata": {},
   "outputs": [],
   "source": [
    "I enjoy working by myself and as a team pretty much equally."
   ]
  },
  {
   "cell_type": "markdown",
   "id": "9b5f92d8-e6be-4c72-af41-c01ca11dc221",
   "metadata": {},
   "source": [
    "## 32.How do you deal with disagreements?"
   ]
  },
  {
   "cell_type": "code",
   "execution_count": null,
   "id": "44593432-e1d2-4c8f-87f7-0be765e10f42",
   "metadata": {},
   "outputs": [],
   "source": [
    "1.Listen actively\n",
    "2.Maintain respect and prefessionalization\n",
    "3.Seek common ground\n",
    "4.Communicate clearly\n",
    "5.Explore alternative solutions\n",
    "6.Find a compromise consensus\n",
    "7.Seek mediation if necessary"
   ]
  },
  {
   "cell_type": "markdown",
   "id": "9f6bedce-f908-4d34-a551-cc8d8fbada6d",
   "metadata": {},
   "source": [
    "## 33.Ethics vs Morality "
   ]
  },
  {
   "cell_type": "code",
   "execution_count": null,
   "id": "1ae64909-fe15-4c9d-b396-c29b18704ea6",
   "metadata": {},
   "outputs": [],
   "source": [
    "Ethics can also be considered a social system or a framework for acceptable behavior. Morals are also \n",
    "influenced by culture or society, but they are personal principles created and upheld by individuals\n",
    "themselves."
   ]
  },
  {
   "cell_type": "markdown",
   "id": "bf38c5fa-4af8-4417-9aff-ad4c8275c401",
   "metadata": {},
   "source": [
    "## 34.What is your greatest achievement? When did it happen?"
   ]
  },
  {
   "cell_type": "code",
   "execution_count": null,
   "id": "ad055efc-1ccd-4d4f-b191-ba5fba1d648c",
   "metadata": {},
   "outputs": [],
   "source": [
    "Ideally, you should talk about a workplace accomplishment. However, you could refer to school, volunteering \n",
    "or even your hobbies, so long as you demonstrate transferable skills and prove you are the best person for\n",
    "the job."
   ]
  },
  {
   "cell_type": "markdown",
   "id": "19baa0ec-3fc6-4637-9f46-f30ced9e51bb",
   "metadata": {},
   "source": [
    "## 35.What is the greatest challenge that you have faced? How did you overcome it?"
   ]
  },
  {
   "cell_type": "code",
   "execution_count": null,
   "id": "f9575d0a-3bee-40e5-b884-e478dacdcbbf",
   "metadata": {},
   "outputs": [],
   "source": [
    "The biggest challenge that I faced was that during my schooling I was in Hindi medium school after that I\n",
    "decided to do Engineering. So, I had to go with an English medium that situation was very tough for me."
   ]
  },
  {
   "cell_type": "markdown",
   "id": "892ddd3c-4bbb-4788-9396-91e497964246",
   "metadata": {},
   "source": [
    "## 36. What is the biggest adversity that you have faced? How did you persist through it?"
   ]
  },
  {
   "cell_type": "code",
   "execution_count": null,
   "id": "94cd76ab-4a03-4276-82c6-f6fac9552a78",
   "metadata": {},
   "outputs": [],
   "source": [
    "-overcoming a rejection\n",
    "-Getting fired\n",
    "-suffering an injury\n",
    "-Suffering discrimination"
   ]
  },
  {
   "cell_type": "markdown",
   "id": "155ff7b9-153e-402e-bc1f-003bebaf2684",
   "metadata": {},
   "source": [
    "## 37.What is the biggest setback that you have faced? How did you deal with it?"
   ]
  },
  {
   "cell_type": "code",
   "execution_count": null,
   "id": "78a987f4-e85c-42cd-a246-fca6f3f5ee11",
   "metadata": {},
   "outputs": [],
   "source": [
    "Explain what the setback was, how it happened and why it was a difficult experience.\n",
    "Clearly explain your thought process and role in finding a solution.\n",
    "It is important to fully explain the result and how your actions helped to achieve this."
   ]
  },
  {
   "cell_type": "markdown",
   "id": "2b6a3966-fd50-4e2e-b1c5-13c3ffe068db",
   "metadata": {},
   "source": [
    "## 38.What is the biggest mistake that you have made? What did you do after making it?"
   ]
  },
  {
   "cell_type": "code",
   "execution_count": null,
   "id": "0a0ba44e-657f-4786-a8c2-d7bcad38ad7f",
   "metadata": {},
   "outputs": [],
   "source": [
    "1.Turning late\n",
    "2.Inappropriate clothing\n",
    "3.Being unprepared\n",
    "4.Lying\n",
    "5.Not asking any questions"
   ]
  },
  {
   "cell_type": "markdown",
   "id": "40cbd7c4-ed73-4e09-a923-16d2172e4ac7",
   "metadata": {},
   "source": [
    "## 39.What initiatives have you taken in your career so far? "
   ]
  },
  {
   "cell_type": "code",
   "execution_count": null,
   "id": "08620940-8283-4d82-a115-27e3a3dec7c9",
   "metadata": {},
   "outputs": [],
   "source": [
    "1. What would you do in your first month of working here?\n",
    "2. Tell me about a time you took initiative.\n",
    "3. Tell me about a time you improved a process or system.\n",
    "5. What are your interests outside of work?\n",
    "6. How do you take responsibility for your mistakes?"
   ]
  },
  {
   "cell_type": "markdown",
   "id": "41a23968-ec17-465f-a57c-7e75623fcb1c",
   "metadata": {},
   "source": [
    "## 40.How have you worked on self-development and improvement?"
   ]
  },
  {
   "cell_type": "code",
   "execution_count": null,
   "id": "23e4bd66-8506-4b62-a064-2cfb1b70b7cc",
   "metadata": {},
   "outputs": [],
   "source": [
    "1. Read Every Day\n",
    "2. Learn a New Language\n",
    "3. Pick up a New Hobby\n",
    "5. Create an Inspirational Room\n",
    "7. Level up Your Skills"
   ]
  },
  {
   "cell_type": "markdown",
   "id": "de9a59bf-b76b-4bf9-954e-760d67d5f589",
   "metadata": {},
   "source": [
    "### PEOPLE HANDLING"
   ]
  },
  {
   "cell_type": "markdown",
   "id": "0ee7b984-050f-440d-8b8e-220daaeb99de",
   "metadata": {},
   "source": [
    "## 41.How have you dealt with difficult people at work in the past?"
   ]
  },
  {
   "cell_type": "code",
   "execution_count": null,
   "id": "a17b948d-ba92-4ff2-83c6-71fec2d6b11c",
   "metadata": {},
   "outputs": [],
   "source": [
    "After a challenging work clash, take some time to discuss what happened with a person you trust."
   ]
  },
  {
   "cell_type": "markdown",
   "id": "d3a70aec-232d-40b2-baaa-2d567167149d",
   "metadata": {},
   "source": [
    "## 42.What part of a team that worked on a project are you most proud of?"
   ]
  },
  {
   "cell_type": "code",
   "execution_count": null,
   "id": "7d471d46-0e9f-4490-accf-d0c03c31cfa6",
   "metadata": {},
   "outputs": [],
   "source": [
    "Tell us about your most successful project.\n",
    "project complete submit in time"
   ]
  },
  {
   "cell_type": "markdown",
   "id": "6a3c98c3-f3e1-42c0-a508-a17d1f540373",
   "metadata": {},
   "source": [
    "## 43.Have there been instances where someone’s behaviour changed because of something that you said or did?"
   ]
  },
  {
   "cell_type": "code",
   "execution_count": null,
   "id": "be8b2dc7-3aff-4196-80d8-9cecb4f25812",
   "metadata": {},
   "outputs": [],
   "source": [
    "precontemplation, contemplation, preparation, action, and maintenance."
   ]
  },
  {
   "cell_type": "markdown",
   "id": "07057e21-4a1a-4b48-8599-45048524b0e9",
   "metadata": {},
   "source": [
    "## 44.Have there been instances where someone asked for something from you but had to say no?"
   ]
  },
  {
   "cell_type": "code",
   "execution_count": null,
   "id": "bd6959af-0679-4976-a82a-e57879ee7a12",
   "metadata": {},
   "outputs": [],
   "source": [
    "-party\n",
    "-My personal matters\n",
    "-uncomfortable situations etc"
   ]
  },
  {
   "cell_type": "markdown",
   "id": "e58d5d6c-9b2f-43c4-bd67-e7b33d11877f",
   "metadata": {},
   "source": [
    "### DECISION MAKING"
   ]
  },
  {
   "cell_type": "markdown",
   "id": "fda80970-2a89-43c8-a71b-b0683a5354ea",
   "metadata": {},
   "source": [
    "## 45.What was the most difficult problem that required decision making that came up in your career so far? How did you tackle it?"
   ]
  },
  {
   "cell_type": "code",
   "execution_count": null,
   "id": "e9d20779-3403-434a-a967-95d0f89d31d5",
   "metadata": {},
   "outputs": [],
   "source": [
    "I personally liked one person better than the other, but I had to choose the person I liked less, because\n",
    "they were more qualified to succeed in the new role."
   ]
  },
  {
   "cell_type": "markdown",
   "id": "f9531f88-fa65-4a93-b776-6b8983a9e7c6",
   "metadata": {},
   "source": [
    "## 46.Can you tell me about a difficult problem you faced and how you tackled it?"
   ]
  },
  {
   "cell_type": "code",
   "execution_count": null,
   "id": "e0abd26b-2cc7-4328-aadb-3752dd51417f",
   "metadata": {},
   "outputs": [],
   "source": [
    "I had a very difficult situation where the company I was working for was having financial problems. "
   ]
  },
  {
   "cell_type": "markdown",
   "id": "2679ddf8-3269-4458-99f5-a4d799addeb3",
   "metadata": {},
   "source": [
    "## 47.Can you describe a situation where you made a bad decision?"
   ]
  },
  {
   "cell_type": "code",
   "execution_count": null,
   "id": "d8c070b2-3a1e-4884-a2ac-3444f407b394",
   "metadata": {},
   "outputs": [],
   "source": [
    " When I started work on the task, I soon realised it was going to take me much longer than I'd anticipated."
   ]
  },
  {
   "cell_type": "markdown",
   "id": "c61ee4f2-1496-4d9f-a4ad-4fb3eafafde9",
   "metadata": {},
   "source": [
    "## 48.Can you describe a situation where you were creative?"
   ]
  },
  {
   "cell_type": "code",
   "execution_count": null,
   "id": "8e1443d0-a2a5-4950-9785-03f14a6453c4",
   "metadata": {},
   "outputs": [],
   "source": [
    "Creativity is something like doing the same work in an extra-ordinary way."
   ]
  },
  {
   "cell_type": "markdown",
   "id": "77db1e39-f5c5-476c-a578-ee5a4dce783a",
   "metadata": {},
   "source": [
    "### INTEREST BASED "
   ]
  },
  {
   "cell_type": "markdown",
   "id": "bfb935d9-507a-4e99-b02c-7dd84baa6a02",
   "metadata": {},
   "source": [
    "## 49. What is the last book you read? "
   ]
  },
  {
   "cell_type": "code",
   "execution_count": null,
   "id": "c51ff7a8-66fd-4623-a8d8-43ed7863c989",
   "metadata": {},
   "outputs": [],
   "source": [
    "-I read my diary. Because, soo Many memories in daiary\n",
    "-Motivational books\n",
    "-Inspired biography ETC"
   ]
  },
  {
   "cell_type": "markdown",
   "id": "7e99ac6c-d676-4b63-94b0-00c39f3b8029",
   "metadata": {},
   "source": [
    "## 50. Who in your life has inspired you?"
   ]
  },
  {
   "cell_type": "code",
   "execution_count": null,
   "id": "9fa4984d-e5df-4313-9458-b4c0315efba4",
   "metadata": {},
   "outputs": [],
   "source": [
    "my father and my family."
   ]
  },
  {
   "cell_type": "markdown",
   "id": "f3e3e3bc-9c04-4924-ba37-391ab0d15ee4",
   "metadata": {},
   "source": [
    "## 51.What was the last news story that caught your eye?"
   ]
  },
  {
   "cell_type": "code",
   "execution_count": null,
   "id": "abc81703-5ea3-4a09-a47e-32fd633e4daf",
   "metadata": {},
   "outputs": [],
   "source": [
    "I remember my whole story. I caught my eye are my family."
   ]
  },
  {
   "cell_type": "markdown",
   "id": "58a8f15a-feb3-4a4b-90c3-77989dcbf2f8",
   "metadata": {},
   "source": [
    "## 52. What was the last film you saw? "
   ]
  },
  {
   "cell_type": "code",
   "execution_count": null,
   "id": "dcb703e9-021d-41cb-bced-ba591ef38dd4",
   "metadata": {},
   "outputs": [],
   "source": [
    "I saw my last film life memory videos. Thats big film in world."
   ]
  },
  {
   "cell_type": "markdown",
   "id": "7181d230-0d0e-43db-8ef3-dd5c57d183bb",
   "metadata": {},
   "source": [
    "## 53. If you were an animal, what would you be? "
   ]
  },
  {
   "cell_type": "code",
   "execution_count": null,
   "id": "cbc76728-3443-4724-95d5-efa0c2b8b258",
   "metadata": {},
   "outputs": [],
   "source": [
    "-Keep things positive\n",
    "-Focus on their characteristics\n",
    "-consider the position"
   ]
  },
  {
   "cell_type": "markdown",
   "id": "b0abaa35-4998-4ce3-8f62-9bb8a49a228c",
   "metadata": {},
   "source": [
    "## 54. Can you tell me a story?"
   ]
  },
  {
   "cell_type": "code",
   "execution_count": null,
   "id": "95f91213-a9cb-4099-b48b-5367ee5c0e3f",
   "metadata": {},
   "outputs": [],
   "source": [
    "Think about the company and role that my applying this job"
   ]
  },
  {
   "cell_type": "markdown",
   "id": "4864eeb7-20c0-4576-872b-f8569e665414",
   "metadata": {},
   "source": [
    "## 55. If you could meet anyone living or dead, who would it be and why? "
   ]
  },
  {
   "cell_type": "code",
   "execution_count": null,
   "id": "60f56e5b-b47d-4a2b-9bda-2931592092ef",
   "metadata": {},
   "outputs": [],
   "source": [
    "If you are asking personally,then I would like to meet with no one. I was currently living with the persons\n",
    "who are important for me and whom I cherish very much,so there wasn't any wish for me to meet with someone."
   ]
  },
  {
   "cell_type": "markdown",
   "id": "c5bf1db7-81f5-4c9c-9f2a-f63bbd704f9a",
   "metadata": {},
   "source": [
    "## 56. Who do you admire and why? "
   ]
  },
  {
   "cell_type": "code",
   "execution_count": null,
   "id": "8d986756-1894-49ad-8ccc-f904f593827c",
   "metadata": {},
   "outputs": [],
   "source": [
    "my father. He supports mee."
   ]
  },
  {
   "cell_type": "markdown",
   "id": "66b28ba5-8130-4d43-80e6-ee72e3382714",
   "metadata": {},
   "source": [
    "## 57. What kind of manager would you like to work for?"
   ]
  },
  {
   "cell_type": "code",
   "execution_count": null,
   "id": "b6f77543-3525-4c48-87da-a3e688e22ae6",
   "metadata": {},
   "outputs": [],
   "source": [
    "-project manager\n",
    "-Knowledge\n",
    "-Patient"
   ]
  },
  {
   "cell_type": "markdown",
   "id": "8e3fb1be-8ff5-4a69-8307-a8c2e8fc63d3",
   "metadata": {},
   "source": [
    "## 58. How many cars are there in India/Australia?"
   ]
  },
  {
   "cell_type": "code",
   "execution_count": null,
   "id": "3d545551-a802-44cb-af98-6c2c1ad871fc",
   "metadata": {},
   "outputs": [],
   "source": [
    "India: 32.6 million\n",
    "Australia:20.68 million"
   ]
  },
  {
   "cell_type": "markdown",
   "id": "ea6ac4e1-7171-4a1b-adae-44aa91abaf62",
   "metadata": {},
   "source": [
    "## 59.If we looked at your social media profile, what impression do you think it would give us of you?"
   ]
  },
  {
   "cell_type": "code",
   "execution_count": null,
   "id": "bdf8cf8b-eab3-4cc0-bb2c-d587c92e06aa",
   "metadata": {},
   "outputs": [],
   "source": [
    "The number of times your content was seen, including multiple views from individual users."
   ]
  },
  {
   "cell_type": "markdown",
   "id": "6cec3666-7d68-44f2-9dd4-e36d9a483830",
   "metadata": {},
   "source": [
    "### HANDLING NEGATIVE QUESTIONS"
   ]
  },
  {
   "cell_type": "markdown",
   "id": "fbb33f2e-7df5-4ea3-a2f2-c66a8e5e9ecd",
   "metadata": {},
   "source": [
    "## 60.Can you explain why you think that you are the right person for this job?"
   ]
  },
  {
   "cell_type": "code",
   "execution_count": null,
   "id": "0c63c6d8-b4b1-4855-90e3-d589302385df",
   "metadata": {},
   "outputs": [],
   "source": [
    "Use the job description and research the company online to find out what the hiring manager wants."
   ]
  },
  {
   "cell_type": "markdown",
   "id": "38ffba9f-e28e-471a-a8a0-66f61a789f20",
   "metadata": {},
   "source": [
    "## 61.How do your skills and experience make you stand out from other candidates?"
   ]
  },
  {
   "cell_type": "code",
   "execution_count": null,
   "id": "b5b2c68e-366b-49fa-8bc4-df2785be43b7",
   "metadata": {},
   "outputs": [],
   "source": [
    "An important skill that can set you apart from other candidates is being intellectually curious and wanting\n",
    "to learn new things."
   ]
  },
  {
   "cell_type": "markdown",
   "id": "22c1a1cd-8e1a-4201-a888-cf20170a2b55",
   "metadata": {},
   "source": [
    "## 62. Do you prefer working regular hours and routine working patterns?"
   ]
  },
  {
   "cell_type": "code",
   "execution_count": null,
   "id": "b2b34328-bdf4-403f-8047-4f4d8294f010",
   "metadata": {},
   "outputs": [],
   "source": [
    " I prefer regular hours."
   ]
  },
  {
   "cell_type": "markdown",
   "id": "a0591f69-8d11-4be5-9076-254371683c26",
   "metadata": {},
   "source": [
    "## 63. How do you feel about paperwork and other bureaucratic practices?"
   ]
  },
  {
   "cell_type": "code",
   "execution_count": null,
   "id": "5bd9207d-96ca-462d-a298-7d698b7e5817",
   "metadata": {},
   "outputs": [],
   "source": [
    "Loads of paperwork and nonsensical rules, otherwise known as \"red tape\""
   ]
  },
  {
   "cell_type": "markdown",
   "id": "c0038a06-5de9-45c5-99e1-a8c9ab2f4017",
   "metadata": {},
   "source": [
    "## 64.Have there been instances where you had to break rules to get a job done?"
   ]
  },
  {
   "cell_type": "code",
   "execution_count": null,
   "id": "623b8e8f-0032-4f65-91db-b50fd8f609a0",
   "metadata": {},
   "outputs": [],
   "source": [
    " I did ask permission from my manager first. However, I would want to be able to put a case forward for why \n",
    "that rule needs to change."
   ]
  },
  {
   "cell_type": "markdown",
   "id": "e9ef4a69-4346-441d-8c82-d70d6511b9ee",
   "metadata": {},
   "source": [
    "## 65.What are some of your personality traits that could be improved upon?"
   ]
  },
  {
   "cell_type": "code",
   "execution_count": null,
   "id": "1855069e-e8e2-432a-a361-1ae887a5ea61",
   "metadata": {},
   "outputs": [],
   "source": [
    "Know yourself\n",
    "Bring positivity in your outlook\n",
    "Meet new people\n",
    "Be a good listener"
   ]
  },
  {
   "cell_type": "markdown",
   "id": "718c8d9c-aa8b-424e-9932-9a14c016487a",
   "metadata": {},
   "source": [
    "## 66.How will your past experiences help prepare you for this job? "
   ]
  },
  {
   "cell_type": "code",
   "execution_count": null,
   "id": "40ad590c-b971-45c6-af1d-a3c0f67ff6b9",
   "metadata": {},
   "outputs": [],
   "source": [
    "Show how my personal experiences make you a better employee."
   ]
  },
  {
   "cell_type": "markdown",
   "id": "5be12953-bc1e-4392-a2a5-ac75803da967",
   "metadata": {},
   "source": [
    "## 67.How have your past experiences prepared you to take on more responsibility? "
   ]
  },
  {
   "cell_type": "code",
   "execution_count": null,
   "id": "7f26cc24-356a-43bc-9c54-71f9b2f9fa1a",
   "metadata": {},
   "outputs": [],
   "source": [
    "To gain a better understanding of your professional background, experience and the type of skills you can\n",
    "offer as me. "
   ]
  },
  {
   "cell_type": "markdown",
   "id": "40a2577c-2006-465f-86ce-1ef20650c9da",
   "metadata": {},
   "source": [
    "##  68. Do you ever work outside of normal business hours? "
   ]
  },
  {
   "cell_type": "code",
   "execution_count": null,
   "id": "227247d6-a3fc-4212-856d-e08fdbfae41d",
   "metadata": {},
   "outputs": [],
   "source": [
    "Outside Regular Hours of Work means any hours worked beyond those hours defined as Regular Hours of Work."
   ]
  },
  {
   "cell_type": "markdown",
   "id": "eb4a809b-1d40-4d61-bf68-cd6d0aaacbed",
   "metadata": {},
   "source": [
    "## 68. What prevented you from achieving more in your last job?"
   ]
  },
  {
   "cell_type": "code",
   "execution_count": null,
   "id": "5bc3a538-77c8-4211-b724-6a8bbe6d84b2",
   "metadata": {},
   "outputs": [],
   "source": [
    "To achieve our goals, we need to change our behaviour, we need to work on small things, and evidently \n",
    "become a better version of ourselves."
   ]
  },
  {
   "cell_type": "markdown",
   "id": "25da265a-4b3c-4f4a-aeba-b1f2e0e7b242",
   "metadata": {},
   "source": [
    "## 69.Do you have experience that is relevant to this job? "
   ]
  },
  {
   "cell_type": "code",
   "execution_count": null,
   "id": "a73d2294-2d85-4431-91db-0286b2f558c0",
   "metadata": {},
   "outputs": [],
   "source": [
    "Outlining the skills you developed through your experiences."
   ]
  },
  {
   "cell_type": "markdown",
   "id": "2022415d-3b8d-48cb-a834-f9a22e418544",
   "metadata": {},
   "source": [
    "## 70. Are there any reasons why we should not hire someone who is overqualified for the job?"
   ]
  },
  {
   "cell_type": "code",
   "execution_count": null,
   "id": "4b504447-5a5b-4362-b346-fa3372d36f48",
   "metadata": {},
   "outputs": [],
   "source": [
    "The job isn't challenging enough for someone of your caliber, and the hiring manager fears that you'll get \n",
    "bored."
   ]
  },
  {
   "cell_type": "markdown",
   "id": "73d2b7fe-9b40-4b21-aa0f-b9f1b9573423",
   "metadata": {},
   "source": [
    "## 71. Have there been instances where you were fired from a job? "
   ]
  },
  {
   "cell_type": "code",
   "execution_count": null,
   "id": "b56bd722-4a76-472e-a132-1c61d8a2a197",
   "metadata": {},
   "outputs": [],
   "source": [
    "Leave out unnecessary details and keep it simple. "
   ]
  },
  {
   "cell_type": "markdown",
   "id": "8320d9eb-8e75-428f-ae9e-1a1672b54cd0",
   "metadata": {},
   "source": [
    "## 72. What keeps you up at night when it comes to work? "
   ]
  },
  {
   "cell_type": "code",
   "execution_count": null,
   "id": "b81b8bbe-bfb8-4c04-bec2-30140a904f67",
   "metadata": {},
   "outputs": [],
   "source": [
    " bring a puzzle book or something to read to keep your mind active."
   ]
  },
  {
   "cell_type": "markdown",
   "id": "3f3083ec-396d-4109-b10f-01ae90853f79",
   "metadata": {},
   "source": [
    "## 73. How would you rate me as an interviewer?"
   ]
  },
  {
   "cell_type": "code",
   "execution_count": null,
   "id": "1c3d3004-302d-45a6-bf08-126299a1f63d",
   "metadata": {},
   "outputs": [],
   "source": [
    "Rate me as based on my questions,skills and hardworking."
   ]
  },
  {
   "cell_type": "markdown",
   "id": "2ddb180d-7207-4e46-875e-c9f8931d7405",
   "metadata": {},
   "source": [
    "## 74.Is there anything that I should avoid asking during this interview?"
   ]
  },
  {
   "cell_type": "code",
   "execution_count": null,
   "id": "25f7a731-0391-42a2-9804-1abfaf369786",
   "metadata": {},
   "outputs": [],
   "source": [
    "Age or genetic information."
   ]
  },
  {
   "cell_type": "markdown",
   "id": "ee171af8-2a03-4d99-ab25-a8a6eaba1abf",
   "metadata": {},
   "source": [
    "## 75.Have there been instances where you doubted your ability to do a job?"
   ]
  },
  {
   "cell_type": "code",
   "execution_count": null,
   "id": "d3eb773f-1d88-48a9-b72e-0f8743bcd14a",
   "metadata": {},
   "outputs": [],
   "source": [
    "Doubt your competency and ability to do your job, participate in your community or accomplish personal\n",
    "goals."
   ]
  },
  {
   "cell_type": "markdown",
   "id": "45b55b40-b8ae-4b61-9d3d-964a6bb51245",
   "metadata": {},
   "source": [
    "## 76.Do you consider losing your temper as a weakness? "
   ]
  },
  {
   "cell_type": "code",
   "execution_count": null,
   "id": "668da449-ab3d-4960-bf85-854412c6d641",
   "metadata": {},
   "outputs": [],
   "source": [
    "I am aren't able to detach from your emotions, it's actually a sign of weakness."
   ]
  },
  {
   "cell_type": "markdown",
   "id": "0b3b98a4-596f-4a41-8f13-f4cd9f1b1923",
   "metadata": {},
   "source": [
    "## 77. When was the last time that work made you feel frustrated? "
   ]
  },
  {
   "cell_type": "code",
   "execution_count": null,
   "id": "6fafeaf1-532e-438a-aed0-01d615087037",
   "metadata": {},
   "outputs": [],
   "source": [
    " I had a coworker who was very confrontational in her written and oral communication."
   ]
  },
  {
   "cell_type": "markdown",
   "id": "20d8ad1e-a32b-4ed2-8923-4cad10a41f8a",
   "metadata": {},
   "source": [
    "## 78.Are there any issues with travelling for work?"
   ]
  },
  {
   "cell_type": "code",
   "execution_count": null,
   "id": "1cad9814-5ce6-4c6a-8b6b-77b7a6b58926",
   "metadata": {},
   "outputs": [],
   "source": [
    "-Getting mugged.\n",
    "-Losing your phone.\n",
    "-Getting sick. \n",
    "-Not speaking the language.\n",
    "-Loneliness. \n",
    "-Running out of money.\n",
    "-Missing a flight"
   ]
  },
  {
   "cell_type": "markdown",
   "id": "0abb03a1-f020-4273-8d61-1461235edb17",
   "metadata": {},
   "source": [
    "### PERSONAL QUESTIONS"
   ]
  },
  {
   "cell_type": "markdown",
   "id": "bf965d04-3f04-4306-8b11-1bef7729f31e",
   "metadata": {},
   "source": [
    "## 79.Are you married or in a committed relationship? "
   ]
  },
  {
   "cell_type": "code",
   "execution_count": null,
   "id": "9008f7a9-de41-486f-836e-fd84a2e78d1c",
   "metadata": {},
   "outputs": [],
   "source": [
    "I currently in realtionship."
   ]
  },
  {
   "cell_type": "markdown",
   "id": "545c981b-de8e-4a01-abee-981032262c39",
   "metadata": {},
   "source": [
    "## 80.What happens when you decide to have children? "
   ]
  },
  {
   "cell_type": "code",
   "execution_count": null,
   "id": "9ff88ae1-c662-4506-a2e4-eb3c0e1e17b7",
   "metadata": {},
   "outputs": [],
   "source": [
    "Because, some health problems."
   ]
  },
  {
   "cell_type": "markdown",
   "id": "c3721b6b-fef1-4de8-8d14-05ace5d58fca",
   "metadata": {},
   "source": [
    "## 81.Are you pregnant at the moment? "
   ]
  },
  {
   "cell_type": "code",
   "execution_count": null,
   "id": "30893d35-1033-44a1-80e3-21eaaeeeba6b",
   "metadata": {},
   "outputs": [],
   "source": [
    "Noo"
   ]
  },
  {
   "cell_type": "markdown",
   "id": "70d559b2-edcc-4047-bce4-14ea2b4271f0",
   "metadata": {},
   "source": [
    "## 82.Does your family/husband mind you being away from home?"
   ]
  },
  {
   "cell_type": "code",
   "execution_count": null,
   "id": "0bf81c5b-ca5c-48ba-a907-5283a60f7499",
   "metadata": {},
   "outputs": [],
   "source": [
    "In that situation i will try to do my job."
   ]
  },
  {
   "cell_type": "markdown",
   "id": "007eb6f3-b907-415e-b5f2-62419d490468",
   "metadata": {},
   "source": [
    "## 83.What hobbies and interests do you have outside of work? "
   ]
  },
  {
   "cell_type": "code",
   "execution_count": null,
   "id": "787c08fc-4640-42e9-ac69-1fb3dcb4dfdc",
   "metadata": {},
   "outputs": [],
   "source": [
    "-Travel.\n",
    "-Volunteering, community service or charity work.\n",
    "-Sports such as competing on a team or in a league, hiking or other forms of exercise.\n",
    "-Creative arts, including writing, music, painting and crafts.\n",
    "-Cooking or gardening."
   ]
  },
  {
   "cell_type": "markdown",
   "id": "3eb2ab09-f9e4-4fee-a943-faecee498544",
   "metadata": {},
   "source": [
    "## 84. Do you mind if I ask what your partner does for a living? "
   ]
  },
  {
   "cell_type": "code",
   "execution_count": null,
   "id": "c4629ad8-09f7-408a-906e-3977a0c45839",
   "metadata": {},
   "outputs": [],
   "source": [
    "He also live with me."
   ]
  },
  {
   "cell_type": "markdown",
   "id": "5a95883d-322f-4653-9d31-4404c57580e6",
   "metadata": {},
   "source": [
    "## 85.Are there any personal issues that would affect your ability to do the job?"
   ]
  },
  {
   "cell_type": "code",
   "execution_count": null,
   "id": "9c7f59e2-20ec-4501-960a-a4e2ad5cccf8",
   "metadata": {},
   "outputs": [],
   "source": [
    "Present no issues."
   ]
  },
  {
   "cell_type": "markdown",
   "id": "17950be1-2adc-4bd1-a867-5dbf661c07a3",
   "metadata": {},
   "source": [
    "### SHOWING INTEREST IN WORK (ADDRESSED TOWARDS RECRUITER):"
   ]
  },
  {
   "cell_type": "markdown",
   "id": "c0509860-a568-45fd-8191-03d2c276a0e4",
   "metadata": {},
   "source": [
    "## 86.How was my performance? "
   ]
  },
  {
   "cell_type": "code",
   "execution_count": null,
   "id": "da26bd77-6af8-4bdb-92de-174e9dd0bc6b",
   "metadata": {},
   "outputs": [],
   "source": [
    "your performance Good."
   ]
  },
  {
   "cell_type": "markdown",
   "id": "15919700-fea7-4e36-8300-88e23db66037",
   "metadata": {},
   "source": [
    "## 87.Can you suggest areas where I need to improve? "
   ]
  },
  {
   "cell_type": "code",
   "execution_count": null,
   "id": "37977933-1154-4dad-bb4b-0de090164797",
   "metadata": {},
   "outputs": [],
   "source": [
    "-Be an active listener. Being a good listener is more important than being a good speaker. \n",
    "-Incorporate feedback.\n",
    "-Improve interpersonal skills. \n",
    "-Use critical thinking. \n",
    "-Adapt to situations. \n",
    "-Practise endurance. \n",
    "-Build leadership skills. \n",
    "-Delegate tasks."
   ]
  },
  {
   "cell_type": "markdown",
   "id": "345926aa-3b18-4935-bae1-ebef3d72f695",
   "metadata": {},
   "source": [
    "## 88.Can you suggest any extra things I need to learn in order to successfully meet the challenges at work?"
   ]
  },
  {
   "cell_type": "code",
   "execution_count": null,
   "id": "22a0bd81-30d5-4c2e-ad95-0baad47da4ec",
   "metadata": {},
   "outputs": [],
   "source": [
    "-Responsibility.\n",
    "-Self management skills. \n",
    "-Communication skills. \n",
    "-Collaboration skills. \n",
    "-Independent work skills. \n",
    "-Critical-thinking skills. \n",
    "-Study skills.\n",
    "-Be strong your mind."
   ]
  },
  {
   "cell_type": "markdown",
   "id": "9d13ea5e-3e99-49c3-9d55-bc2b24046cef",
   "metadata": {},
   "source": [
    "## 89.What are the day-to-day duties involved in this job? "
   ]
  },
  {
   "cell_type": "code",
   "execution_count": null,
   "id": "424a88d4-cc16-4120-8292-c9296f61d6bd",
   "metadata": {},
   "outputs": [],
   "source": [
    "Answering customer emails, scheduling travel arrangements for the sales team, preparing for team meetings."
   ]
  },
  {
   "cell_type": "markdown",
   "id": "bfdb6d12-0b1c-4b7f-a3ad-cba438699733",
   "metadata": {},
   "source": [
    "## 90.How will the performance of employees be assessed? "
   ]
  },
  {
   "cell_type": "code",
   "execution_count": null,
   "id": "277686d7-f82c-4105-9f3e-f9ce6f4ef3ce",
   "metadata": {},
   "outputs": [],
   "source": [
    "the manager's evaluation of the employee's overall performance and a self-evaluation conducted by the\n",
    "employee about their own evaluation of their success."
   ]
  },
  {
   "cell_type": "markdown",
   "id": "a8261aad-c012-4604-a4b5-99aa74c32b9c",
   "metadata": {},
   "source": [
    "## 91. How are targets set?"
   ]
  },
  {
   "cell_type": "code",
   "execution_count": null,
   "id": "a229f1b9-ab8c-40ac-8bcb-05fc01f2ada7",
   "metadata": {},
   "outputs": [],
   "source": [
    "-Have clear measurable outcomes and objectives.\n",
    "-Define the time period for achieving these outcomes/objectives.\n",
    "-Document your current performance for affecting this type of outcome and objective and assess whether it\n",
    " directly relateds to what you need to accomplish."
   ]
  },
  {
   "cell_type": "markdown",
   "id": "f8951c9b-80d1-4b96-b901-7c513c05996b",
   "metadata": {},
   "source": [
    "## 92.Who will I report to?"
   ]
  },
  {
   "cell_type": "code",
   "execution_count": null,
   "id": "60d154d5-9359-4197-90ab-29aa6145239d",
   "metadata": {},
   "outputs": [],
   "source": [
    "Salary problem ask accounter/manager.\n",
    "Mostly report higher officials."
   ]
  },
  {
   "cell_type": "markdown",
   "id": "1d347264-e230-4fb6-8a19-435f5a0982bd",
   "metadata": {},
   "source": [
    "## 93. What do you see as the immediate challenges for me if I were to be given the job?"
   ]
  },
  {
   "cell_type": "code",
   "execution_count": null,
   "id": "3f3b6f74-2d2a-436d-8e97-d0a369ab557d",
   "metadata": {},
   "outputs": [],
   "source": [
    "projects/programming challenges."
   ]
  },
  {
   "cell_type": "markdown",
   "id": "ccc67f9d-d12a-48cc-aa02-c9965c451cb8",
   "metadata": {},
   "source": [
    "## 94. What do you most enjoy about working here? "
   ]
  },
  {
   "cell_type": "code",
   "execution_count": null,
   "id": "01983c37-24d1-4a78-953c-55909dddb7a6",
   "metadata": {},
   "outputs": [],
   "source": [
    "-I thoroughly enjoyed working with my coworkers.\n",
    "-It was a great entry-level position at a start-up agency."
   ]
  },
  {
   "cell_type": "markdown",
   "id": "b43c92a6-209c-4005-be92-09d1661f5382",
   "metadata": {},
   "source": [
    "## 95.What training and development is given to employees? "
   ]
  },
  {
   "cell_type": "code",
   "execution_count": null,
   "id": "e4967e27-e9f8-481d-b316-7ae2e2f57692",
   "metadata": {},
   "outputs": [],
   "source": [
    "A program that helps to learn a particular skill as well as knowledge to improve employee performance &\n",
    "productivity in their current organization or job role."
   ]
  },
  {
   "cell_type": "markdown",
   "id": "85a0ec08-38a8-4e4d-8e01-c26308cf9319",
   "metadata": {},
   "source": [
    "## 96.What opportunities are there for growth within the organization?"
   ]
  },
  {
   "cell_type": "code",
   "execution_count": null,
   "id": "fa787cd5-8555-411b-a610-52faa3b35ae6",
   "metadata": {},
   "outputs": [],
   "source": [
    "Career development opportunities for your employees through collaboration, education cost-covering programs,\n",
    "mentorships, feedback and cross-department involvement."
   ]
  },
  {
   "cell_type": "markdown",
   "id": "e9352650-02a3-4299-b180-969d633f1976",
   "metadata": {},
   "source": [
    "## 97. How does the company promote personal growth?"
   ]
  },
  {
   "cell_type": "code",
   "execution_count": null,
   "id": "92a2724d-36e7-4430-a0f5-258338be37d1",
   "metadata": {},
   "outputs": [],
   "source": [
    "-Facilitate Self-Awareness. \n",
    "-Involve Employees in Goal Setting. \n",
    "-Prioritize Skill Development. \n",
    "-Consult Employees About Their Developmental Needs. \n",
    "-Improve cross-departmental collaboration. \n",
    "-Develop an Action Plan. \n",
    "-Provide Learning Opportunities. \n",
    "-Encourage Knowledge Sharing."
   ]
  },
  {
   "cell_type": "markdown",
   "id": "9d583cbc-ecfb-49dd-866d-faa5cfc350df",
   "metadata": {},
   "source": [
    "## 98.What kind of career path can one take starting from this level? "
   ]
  },
  {
   "cell_type": "code",
   "execution_count": null,
   "id": "c236ebec-1941-4f58-8207-066f50c1a9b6",
   "metadata": {},
   "outputs": [],
   "source": [
    "-Define your career objectives\n",
    "--Create long-term plans\n",
    "-Learn about your type of personality\n",
    "-Review your work experience\n",
    "-Compare your education to job requirements\n",
    "-Evaluate your skillset\n",
    "-Note your interests\n",
    "-Be aware of your main values"
   ]
  },
  {
   "cell_type": "markdown",
   "id": "e70b5d57-f743-40a9-b3c6-6896fc38ec64",
   "metadata": {},
   "source": [
    "## 99.What opportunities are there for working abroad with the company?"
   ]
  },
  {
   "cell_type": "code",
   "execution_count": null,
   "id": "2c83b5be-0c09-4135-8f4f-dc8850bcc38c",
   "metadata": {},
   "outputs": [],
   "source": [
    "Chance to experience another culture thats entirely different from your own. "
   ]
  },
  {
   "cell_type": "markdown",
   "id": "069aa6d7-974d-42da-bfce-0f4473e48f58",
   "metadata": {},
   "source": [
    "## 100. What made you decide to join this company? "
   ]
  },
  {
   "cell_type": "code",
   "execution_count": null,
   "id": "47e40e76-0871-4f4b-94b5-5053ffc3a49f",
   "metadata": {},
   "outputs": [],
   "source": [
    "I am excited about the prospect of working in an environment where my ideas are valued, and I can contribute\n",
    "to collective problem-solving."
   ]
  },
  {
   "cell_type": "markdown",
   "id": "623271f0-97be-42ab-98cd-d8d99c1e2b6d",
   "metadata": {},
   "source": [
    "## 101. What motivates you to commit to this company and be successful?"
   ]
  },
  {
   "cell_type": "code",
   "execution_count": null,
   "id": "1b31d9c0-5d21-4c4e-a540-ca27e1411df3",
   "metadata": {},
   "outputs": [],
   "source": [
    "I see this opportunity as a way to contribute to an exciting/forward-thinking/fast-moving company/industry."
   ]
  }
 ],
 "metadata": {
  "kernelspec": {
   "display_name": "Python 3 (ipykernel)",
   "language": "python",
   "name": "python3"
  },
  "language_info": {
   "codemirror_mode": {
    "name": "ipython",
    "version": 3
   },
   "file_extension": ".py",
   "mimetype": "text/x-python",
   "name": "python",
   "nbconvert_exporter": "python",
   "pygments_lexer": "ipython3",
   "version": "3.10.8"
  }
 },
 "nbformat": 4,
 "nbformat_minor": 5
}
